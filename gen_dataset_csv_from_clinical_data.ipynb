{
 "cells": [
  {
   "cell_type": "code",
   "execution_count": 50,
   "metadata": {
    "collapsed": false,
    "jupyter": {
     "outputs_hidden": false
    },
    "pycharm": {
     "name": "#%%\n"
    }
   },
   "outputs": [
    {
     "name": "stdout",
     "output_type": "stream",
     "text": [
      "Index(['id', 'filename'], dtype='object')\n"
     ]
    }
   ],
   "source": [
    "import pandas as pd\n",
    "\n",
    "download_list = pd.read_csv(\"./dataset_csv/gdc_manifest_20230223_081523.txt\", delimiter='\\t')\n",
    "download_list.drop(['md5', 'size', 'state'], axis=1, inplace=True)\n",
    "print(download_list.columns)"
   ]
  },
  {
   "cell_type": "code",
   "execution_count": 51,
   "metadata": {
    "collapsed": false,
    "jupyter": {
     "outputs_hidden": false
    },
    "pycharm": {
     "name": "#%%\n"
    }
   },
   "outputs": [],
   "source": [
    "clinical_data = pd.read_csv(\"./dataset_csv/brca_tcga_pan_can_atlas_2018_clinical_data.tsv\", delimiter='\\t')\n",
    "clinical_data.drop(['Study ID'], axis=1, inplace=True)\n",
    "#print(clinical_data.columns[1:])\n",
    "download_list[clinical_data.columns[2:]]='NaN'\n",
    "#print(download_list.columns)"
   ]
  },
  {
   "cell_type": "code",
   "execution_count": 52,
   "metadata": {},
   "outputs": [
    {
     "data": {
      "text/plain": [
       "1133"
      ]
     },
     "execution_count": 52,
     "metadata": {},
     "output_type": "execute_result"
    }
   ],
   "source": [
    "len(download_list['id'])"
   ]
  },
  {
   "cell_type": "code",
   "execution_count": 53,
   "metadata": {},
   "outputs": [
    {
     "name": "stdout",
     "output_type": "stream",
     "text": [
      "TCGA-A2-A3Y0\n",
      "TCGA-AN-A0AM\n",
      "TCGA-A7-A0CE\n",
      "TCGA-A8-A06U\n",
      "TCGA-A8-A091\n",
      "TCGA-A2-A04V\n",
      "TCGA-BH-A0DI\n",
      "TCGA-BH-A0HL\n",
      "TCGA-D8-A1JL\n",
      "TCGA-D8-A1JJ\n"
     ]
    }
   ],
   "source": [
    "for i in range(10):\n",
    "    print(download_list['filename'][i][:12])"
   ]
  },
  {
   "cell_type": "code",
   "execution_count": 56,
   "metadata": {},
   "outputs": [],
   "source": [
    "for i in range(len(download_list['filename'])):\n",
    "#for i in range(10):\n",
    "    for j in range(len(clinical_data['Patient ID'])):\n",
    "        if clinical_data['Patient ID'][j] == download_list['filename'][i][:12]:\n",
    "            download_list.loc[i][2:]=clinical_data.loc[j][2:]\n",
    "            \n",
    "#download_list.drop([''], axis=1, inplace=True)\n",
    "download_list.to_csv('./dataset_csv/TCGA_breast.csv', sep=',')#, na_rep='NaN')\n",
    "#print(download_list.head(10))"
   ]
  },
  {
   "cell_type": "code",
   "execution_count": 57,
   "metadata": {},
   "outputs": [
    {
     "data": {
      "text/plain": [
       "['RN50',\n",
       " 'RN101',\n",
       " 'RN50x4',\n",
       " 'RN50x16',\n",
       " 'RN50x64',\n",
       " 'ViT-B/32',\n",
       " 'ViT-B/16',\n",
       " 'ViT-L/14',\n",
       " 'ViT-L/14@336px']"
      ]
     },
     "execution_count": 57,
     "metadata": {},
     "output_type": "execute_result"
    }
   ],
   "source": [
    "import sys\n",
    "sys.path.append(\"/shared/j.jang/pathai/CLIP\")\n",
    "import clip\n",
    "clip.available_models()"
   ]
  },
  {
   "cell_type": "code",
   "execution_count": null,
   "metadata": {},
   "outputs": [],
   "source": []
  }
 ],
 "metadata": {
  "kernelspec": {
   "display_name": "Python 3 (ipykernel)",
   "language": "python",
   "name": "python3"
  },
  "language_info": {
   "codemirror_mode": {
    "name": "ipython",
    "version": 3
   },
   "file_extension": ".py",
   "mimetype": "text/x-python",
   "name": "python",
   "nbconvert_exporter": "python",
   "pygments_lexer": "ipython3",
   "version": "3.7.11"
  }
 },
 "nbformat": 4,
 "nbformat_minor": 4
}
