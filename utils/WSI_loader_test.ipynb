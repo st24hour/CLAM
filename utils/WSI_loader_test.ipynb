{
 "cells": [
  {
   "cell_type": "code",
   "execution_count": null,
   "metadata": {},
   "outputs": [],
   "source": [
    "import openslide\n",
    "from PIL import Image\n",
    "import torch\n",
    "from torch.utils.data import Dataset\n",
    "from torchvision import datasets, transforms\n",
    "\n",
    "class WSIDataset(Dataset):\n",
    "    def __init__(self, wsi_paths, labels, transform=None):\n",
    "        self.wsi_paths = wsi_paths\n",
    "        self.labels = labels\n",
    "        self.transform = transform\n",
    "\n",
    "    def __len__(self):\n",
    "        return len(self.wsi_paths)\n",
    "\n",
    "    def __getitem__(self, index):\n",
    "        wsi_path = self.wsi_paths[index]\n",
    "        label = self.labels[index]\n",
    "        \n",
    "        # Open WSI image using openslide\n",
    "        wsi = openslide.open_slide(wsi_path)\n",
    "        \n",
    "        # Read the whole slide image into PIL image format\n",
    "        wsi_pil = Image.fromarray(wsi.read_region((0, 0), 0, wsi.level_dimensions[0]).convert('RGB'))\n",
    "        \n",
    "        # Apply transformations if specified\n",
    "        if self.transform is not None:\n",
    "            wsi_pil = self.transform(wsi_pil)\n",
    "        \n",
    "        return wsi_pil, label, wsi_path\n",
    "\n",
    "# Example usage\n",
    "wsi_paths = ['path/to/wsi1', 'path/to/wsi2', 'path/to/wsi3']\n",
    "labels = [0, 1, 0]  # Example labels corresponding to the WSI paths\n",
    "transform = transforms.Compose([transforms.Resize((224, 224)), transforms.ToTensor()])\n",
    "\n",
    "dataset = WSIDataset(wsi_paths, labels, transform=transform)\n",
    "dataloader = torch.utils.data.DataLoader(dataset, batch_size=16, shuffle=True)"
   ]
  },
  {
   "cell_type": "code",
   "execution_count": 7,
   "metadata": {},
   "outputs": [
    {
     "name": "stdout",
     "output_type": "stream",
     "text": [
      "True\n",
      "False\n",
      "False\n",
      "True\n"
     ]
    }
   ],
   "source": [
    "import argparse\n",
    "\n",
    "parser = argparse.ArgumentParser()\n",
    "parser.add_argument('-t1', action='store_true', default='True')\n",
    "parser.add_argument('-t2', action='store_true', default='False')\n",
    "parser.add_argument('-f1', action='store_false', default='False')\n",
    "parser.add_argument('-f2', action='store_false', default='True')\n",
    "args, unknown = parser.parse_known_args()\n",
    "\n",
    "print(args.t1)\n",
    "print(args.t2)\n",
    "print(args.f1)\n",
    "print(args.f2)"
   ]
  },
  {
   "cell_type": "markdown",
   "metadata": {},
   "source": []
  },
  {
   "cell_type": "code",
   "execution_count": 6,
   "metadata": {},
   "outputs": [
    {
     "name": "stdout",
     "output_type": "stream",
     "text": [
      "torch.Size([67, 192])\n"
     ]
    }
   ],
   "source": [
    "import torch\n",
    "\n",
    "pt_file = torch.load(\"/shared/js.yun/HIPT/HIPT_original/3-Self-Supervised-Eval/embeddings_slide_lib/embeddings_slide_lib/vit256mean_tcga_slide_embeddings/TCGA-WE-A8ZR-06Z-00-DX1.52E1652B-F713-4DEE-B699-FE9D0719A43C.pt\")\n",
    "print(pt_file.size())\n",
    "\n",
    "\n"
   ]
  },
  {
   "cell_type": "code",
   "execution_count": 11,
   "metadata": {},
   "outputs": [
    {
     "name": "stdout",
     "output_type": "stream",
     "text": [
      "(785, 192)\n"
     ]
    }
   ],
   "source": [
    "import pickle\n",
    "\n",
    "vit256mean = \"/shared/js.yun/HIPT/HIPT_original/3-Self-Supervised-Eval/embeddings_slide_lib/embeddings_slide_lib/knn-subtyping/vit256mean/tcga_lung_vit256mean_class_split_train_0.pkl\"\n",
    "with open(vit256mean, 'rb') as f:\n",
    "        data = pickle.load(f)\n",
    "        print(data['embeddings'].shape)"
   ]
  }
 ],
 "metadata": {
  "kernelspec": {
   "display_name": "base",
   "language": "python",
   "name": "python3"
  },
  "language_info": {
   "codemirror_mode": {
    "name": "ipython",
    "version": 3
   },
   "file_extension": ".py",
   "mimetype": "text/x-python",
   "name": "python",
   "nbconvert_exporter": "python",
   "pygments_lexer": "ipython3",
   "version": "3.7.16"
  },
  "orig_nbformat": 4
 },
 "nbformat": 4,
 "nbformat_minor": 2
}
